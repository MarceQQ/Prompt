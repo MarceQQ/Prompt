{
 "cells": [
  {
   "cell_type": "code",
   "execution_count": 1,
   "id": "d1116568-a8fe-45b7-bdc5-57918ae7dd38",
   "metadata": {},
   "outputs": [],
   "source": [
    "from IPython.display import display\n",
    "import ipywidgets as widgets"
   ]
  },
  {
   "cell_type": "code",
   "execution_count": 3,
   "id": "e80698e7-f8e6-404d-8398-9be0f4c0797f",
   "metadata": {},
   "outputs": [
    {
     "name": "stdout",
     "output_type": "stream",
     "text": [
      "🎲 D&D AI Dungeon Master\n"
     ]
    },
    {
     "data": {
      "application/vnd.jupyter.widget-view+json": {
       "model_id": "63904ac64c394777bc196b9b00b96e32",
       "version_major": 2,
       "version_minor": 0
      },
      "text/plain": [
       "VBox(children=(Text(value='', placeholder='¿Qué hace tu personaje?'), Button(description='Enviar', style=Butto…"
      ]
     },
     "metadata": {},
     "output_type": "display_data"
    }
   ],
   "source": [
    "# Importar bibliotecas necesarias\n",
    "import os\n",
    "from dotenv import load_dotenv\n",
    "import google.generativeai as genai\n",
    "from IPython.display import display\n",
    "import ipywidgets as widgets\n",
    "\n",
    "# Cargar variables de entorno desde .env\n",
    "load_dotenv()\n",
    "\n",
    "\n",
    "\n",
    "# Configurar el modelo\n",
    "def inicializar_modelo():\n",
    "    api_key = \"tu-api-key-gemini\"\n",
    "    if api_key:\n",
    "        genai.configure(api_key=api_key)\n",
    "        return genai.GenerativeModel('gemini-pro')\n",
    "    else:\n",
    "        print(\"❌ No se pudo configurar el modelo debido a un error de autenticación.\")\n",
    "        return None\n",
    "\n",
    "# Gestionar el historial de conversaciones\n",
    "historial = []\n",
    "\n",
    "def gestionar_historial():\n",
    "    global historial\n",
    "    if len(historial) > 4:\n",
    "        historial = historial[-4:]\n",
    "\n",
    "# Generar respuesta del Dungeon Master\n",
    "def generar_respuesta(prompt):\n",
    "    model = inicializar_modelo()\n",
    "    if not model:\n",
    "        return \"❌ Error: Modelo no inicializado.\"\n",
    "    \n",
    "    gestionar_historial()\n",
    "    contexto = \"\\n\".join(\n",
    "        [f\"{msg['role']}: {msg['content']}\" for msg in historial[-2:]]\n",
    "    )\n",
    "    prompt_estructurado = f\"\"\"\n",
    "    [ROL]\n",
    "    Eres un Dungeon Master de D&D 5e experto. Reglas:\n",
    "    1. Mantén coherencia con el escenario actual\n",
    "    2. Máximo 3 párrafos breves\n",
    "    3. Nunca asumas acciones del jugador\n",
    "    4. Progresa la historia gradualmente\n",
    "    [CONTEXTO]\n",
    "    {contexto}\n",
    "    [ACCIÓN DEL JUGADOR]\n",
    "    {prompt}\n",
    "    [RESPUESTA DM]\n",
    "    • Describe consecuencias lógicas\n",
    "    • Mantén el ambiente establecido\n",
    "    • Usa diálogos NPC cuando sea relevante\n",
    "    • Incluye posibles caminos de acción\n",
    "    \"\"\"\n",
    "    try:\n",
    "        response = model.generate_content(prompt_estructurado)\n",
    "        return response.text\n",
    "    except Exception as e:\n",
    "        return f\"⚡ Error en la generación: {str(e)}\"\n",
    "\n",
    "# Interfaz interactiva\n",
    "def main():\n",
    "    print(\"🎲 D&D AI Dungeon Master\")\n",
    "    output = widgets.Output()\n",
    "    input_box = widgets.Text(placeholder=\"¿Qué hace tu personaje?\")\n",
    "    send_button = widgets.Button(description=\"Enviar\")\n",
    "    \n",
    "    def on_send_button_clicked(_):\n",
    "        global historial\n",
    "        with output:\n",
    "            # Obtener la entrada del usuario\n",
    "            prompt = input_box.value.strip()\n",
    "            if not prompt:\n",
    "                print(\"⚠️ Por favor, ingresa una acción.\")\n",
    "                return\n",
    "            \n",
    "            # Añadir mensaje del usuario al historial\n",
    "            historial.append({\"role\": \"user\", \"content\": prompt})\n",
    "            print(f\"\\n👤 Usuario: {prompt}\")\n",
    "            \n",
    "            # Generar respuesta del Dungeon Master\n",
    "            with output:\n",
    "                print(\"\\n🎭 El Dungeon Master está pensando...\")\n",
    "            respuesta = generar_respuesta(prompt)\n",
    "            historial.append({\"role\": \"assistant\", \"content\": respuesta})\n",
    "            print(f\"\\n🧙‍♂️ Dungeon Master: {respuesta}\")\n",
    "            input_box.value = \"\"\n",
    "    \n",
    "    send_button.on_click(on_send_button_clicked)\n",
    "    \n",
    "    # Mostrar la interfaz\n",
    "    display(widgets.VBox([input_box, send_button, output]))\n",
    "\n",
    "# Ejecutar la aplicación\n",
    "if __name__ == \"__main__\":\n",
    "    main()"
   ]
  },
  {
   "cell_type": "code",
   "execution_count": null,
   "id": "ea661974-1a8e-4b61-b658-9a364d8707e2",
   "metadata": {},
   "outputs": [],
   "source": []
  }
 ],
 "metadata": {
  "kernelspec": {
   "display_name": "Python 3 (ipykernel)",
   "language": "python",
   "name": "python3"
  },
  "language_info": {
   "codemirror_mode": {
    "name": "ipython",
    "version": 3
   },
   "file_extension": ".py",
   "mimetype": "text/x-python",
   "name": "python",
   "nbconvert_exporter": "python",
   "pygments_lexer": "ipython3",
   "version": "3.10.16"
  }
 },
 "nbformat": 4,
 "nbformat_minor": 5
}
